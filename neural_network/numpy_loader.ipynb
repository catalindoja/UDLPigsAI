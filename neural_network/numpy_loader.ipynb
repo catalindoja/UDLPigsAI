{
 "cells": [
  {
   "cell_type": "code",
   "execution_count": 97,
   "id": "d5aab2e7",
   "metadata": {},
   "outputs": [
    {
     "name": "stdout",
     "output_type": "stream",
     "text": [
      "{'dataset': 'pig-processing', 'image': [{'width': 512, 'height': 512, 'original_filename': 'C8 - 2HR9kY_6420.jpg', 'filename': 'C8 - 2HR9kY_6420.jpg', 'url': 'https://darwin.v7labs.com/api/v2/teams/pig-image-processing/files/0012e1bb-123b-46c0-b20a-69065dcb221d/original', 'thumbnail_url': 'https://darwin.v7labs.com/api/v2/teams/pig-image-processing/files/0012e1bb-123b-46c0-b20a-69065dcb221d/thumbnail', 'path': '/', 'workview_url': 'https://darwin.v7labs.com/teams/pig-image-processing/items/0182156d-74b0-d107-49b9-996a293ea7cb/workview'}], 'annotations': [{'bounding_box': {'h': 247.0, 'w': 269.0, 'x': 168.0, 'y': 151.0}, 'id': '46a8bd50-79d3-4a53-8cad-7af24e292283', 'name': 'pig', 'polygon': {'path': [{'x': 195.0, 'y': 153.0}, {'x': 194.0, 'y': 154.0}, {'x': 194.0, 'y': 156.0}, {'x': 190.0, 'y': 159.0}, {'x': 189.0, 'y': 159.0}, {'x': 189.0, 'y': 162.0}, {'x': 188.0, 'y': 163.0}, {'x': 188.0, 'y': 166.0}, {'x': 187.0, 'y': 167.0}, {'x': 187.0, 'y': 172.0}, {'x': 185.0, 'y': 175.0}, {'x': 184.0, 'y': 182.0}, {'x': 182.0, 'y': 184.0}, {'x': 180.0, 'y': 189.0}, {'x': 171.0, 'y': 194.0}, {'x': 168.0, 'y': 200.0}, {'x': 168.0, 'y': 259.0}, {'x': 169.0, 'y': 260.0}, {'x': 170.0, 'y': 266.0}, {'x': 171.0, 'y': 267.0}, {'x': 171.0, 'y': 276.0}, {'x': 175.0, 'y': 280.0}, {'x': 175.0, 'y': 281.0}, {'x': 180.0, 'y': 287.0}, {'x': 181.0, 'y': 291.0}, {'x': 184.0, 'y': 295.0}, {'x': 185.0, 'y': 299.0}, {'x': 188.0, 'y': 303.0}, {'x': 189.0, 'y': 308.0}, {'x': 191.0, 'y': 310.0}, {'x': 191.0, 'y': 312.0}, {'x': 192.0, 'y': 313.0}, {'x': 192.0, 'y': 316.0}, {'x': 194.0, 'y': 318.0}, {'x': 194.0, 'y': 320.0}, {'x': 195.0, 'y': 321.0}, {'x': 195.0, 'y': 323.0}, {'x': 197.0, 'y': 325.0}, {'x': 198.0, 'y': 330.0}, {'x': 201.0, 'y': 334.0}, {'x': 202.0, 'y': 339.0}, {'x': 205.0, 'y': 342.0}, {'x': 205.0, 'y': 343.0}, {'x': 206.0, 'y': 343.0}, {'x': 209.0, 'y': 346.0}, {'x': 210.0, 'y': 346.0}, {'x': 212.0, 'y': 348.0}, {'x': 212.0, 'y': 349.0}, {'x': 213.0, 'y': 349.0}, {'x': 216.0, 'y': 352.0}, {'x': 217.0, 'y': 354.0}, {'x': 218.0, 'y': 354.0}, {'x': 221.0, 'y': 357.0}, {'x': 224.0, 'y': 358.0}, {'x': 226.0, 'y': 360.0}, {'x': 228.0, 'y': 360.0}, {'x': 233.0, 'y': 363.0}, {'x': 239.0, 'y': 363.0}, {'x': 241.0, 'y': 364.0}, {'x': 243.0, 'y': 366.0}, {'x': 247.0, 'y': 368.0}, {'x': 250.0, 'y': 371.0}, {'x': 252.0, 'y': 371.0}, {'x': 254.0, 'y': 373.0}, {'x': 256.0, 'y': 373.0}, {'x': 260.0, 'y': 375.0}, {'x': 263.0, 'y': 378.0}, {'x': 265.0, 'y': 378.0}, {'x': 267.0, 'y': 380.0}, {'x': 271.0, 'y': 381.0}, {'x': 273.0, 'y': 383.0}, {'x': 276.0, 'y': 384.0}, {'x': 279.0, 'y': 387.0}, {'x': 285.0, 'y': 388.0}, {'x': 286.0, 'y': 390.0}, {'x': 290.0, 'y': 392.0}, {'x': 295.0, 'y': 393.0}, {'x': 296.0, 'y': 394.0}, {'x': 299.0, 'y': 394.0}, {'x': 300.0, 'y': 395.0}, {'x': 305.0, 'y': 395.0}, {'x': 308.0, 'y': 397.0}, {'x': 312.0, 'y': 397.0}, {'x': 313.0, 'y': 398.0}, {'x': 331.0, 'y': 398.0}, {'x': 332.0, 'y': 397.0}, {'x': 339.0, 'y': 397.0}, {'x': 340.0, 'y': 396.0}, {'x': 343.0, 'y': 396.0}, {'x': 344.0, 'y': 395.0}, {'x': 351.0, 'y': 395.0}, {'x': 352.0, 'y': 394.0}, {'x': 357.0, 'y': 394.0}, {'x': 358.0, 'y': 393.0}, {'x': 361.0, 'y': 393.0}, {'x': 362.0, 'y': 392.0}, {'x': 369.0, 'y': 391.0}, {'x': 375.0, 'y': 388.0}, {'x': 378.0, 'y': 388.0}, {'x': 379.0, 'y': 387.0}, {'x': 384.0, 'y': 387.0}, {'x': 385.0, 'y': 386.0}, {'x': 387.0, 'y': 386.0}, {'x': 391.0, 'y': 384.0}, {'x': 394.0, 'y': 384.0}, {'x': 398.0, 'y': 381.0}, {'x': 401.0, 'y': 380.0}, {'x': 403.0, 'y': 378.0}, {'x': 406.0, 'y': 377.0}, {'x': 406.0, 'y': 376.0}, {'x': 410.0, 'y': 373.0}, {'x': 412.0, 'y': 369.0}, {'x': 414.0, 'y': 368.0}, {'x': 416.0, 'y': 363.0}, {'x': 418.0, 'y': 361.0}, {'x': 419.0, 'y': 356.0}, {'x': 421.0, 'y': 353.0}, {'x': 422.0, 'y': 346.0}, {'x': 423.0, 'y': 345.0}, {'x': 423.0, 'y': 338.0}, {'x': 425.0, 'y': 334.0}, {'x': 425.0, 'y': 322.0}, {'x': 426.0, 'y': 321.0}, {'x': 426.0, 'y': 317.0}, {'x': 428.0, 'y': 315.0}, {'x': 430.0, 'y': 311.0}, {'x': 434.0, 'y': 309.0}, {'x': 436.0, 'y': 307.0}, {'x': 437.0, 'y': 303.0}, {'x': 435.0, 'y': 300.0}, {'x': 428.0, 'y': 300.0}, {'x': 426.0, 'y': 298.0}, {'x': 425.0, 'y': 296.0}, {'x': 424.0, 'y': 288.0}, {'x': 423.0, 'y': 287.0}, {'x': 422.0, 'y': 272.0}, {'x': 418.0, 'y': 266.0}, {'x': 418.0, 'y': 264.0}, {'x': 416.0, 'y': 261.0}, {'x': 416.0, 'y': 258.0}, {'x': 411.0, 'y': 251.0}, {'x': 411.0, 'y': 250.0}, {'x': 407.0, 'y': 246.0}, {'x': 402.0, 'y': 245.0}, {'x': 400.0, 'y': 243.0}, {'x': 398.0, 'y': 243.0}, {'x': 397.0, 'y': 242.0}, {'x': 393.0, 'y': 242.0}, {'x': 392.0, 'y': 241.0}, {'x': 388.0, 'y': 241.0}, {'x': 387.0, 'y': 242.0}, {'x': 381.0, 'y': 242.0}, {'x': 380.0, 'y': 243.0}, {'x': 377.0, 'y': 243.0}, {'x': 375.0, 'y': 245.0}, {'x': 373.0, 'y': 245.0}, {'x': 366.0, 'y': 249.0}, {'x': 360.0, 'y': 255.0}, {'x': 359.0, 'y': 255.0}, {'x': 354.0, 'y': 259.0}, {'x': 351.0, 'y': 258.0}, {'x': 347.0, 'y': 255.0}, {'x': 344.0, 'y': 255.0}, {'x': 342.0, 'y': 253.0}, {'x': 337.0, 'y': 252.0}, {'x': 334.0, 'y': 250.0}, {'x': 329.0, 'y': 250.0}, {'x': 327.0, 'y': 253.0}, {'x': 327.0, 'y': 255.0}, {'x': 328.0, 'y': 256.0}, {'x': 328.0, 'y': 264.0}, {'x': 327.0, 'y': 265.0}, {'x': 317.0, 'y': 265.0}, {'x': 316.0, 'y': 266.0}, {'x': 304.0, 'y': 266.0}, {'x': 303.0, 'y': 265.0}, {'x': 299.0, 'y': 265.0}, {'x': 292.0, 'y': 260.0}, {'x': 287.0, 'y': 258.0}, {'x': 280.0, 'y': 252.0}, {'x': 279.0, 'y': 252.0}, {'x': 278.0, 'y': 250.0}, {'x': 270.0, 'y': 246.0}, {'x': 268.0, 'y': 244.0}, {'x': 268.0, 'y': 242.0}, {'x': 266.0, 'y': 241.0}, {'x': 266.0, 'y': 239.0}, {'x': 261.0, 'y': 234.0}, {'x': 261.0, 'y': 233.0}, {'x': 257.0, 'y': 231.0}, {'x': 256.0, 'y': 229.0}, {'x': 255.0, 'y': 229.0}, {'x': 251.0, 'y': 225.0}, {'x': 245.0, 'y': 222.0}, {'x': 243.0, 'y': 222.0}, {'x': 242.0, 'y': 221.0}, {'x': 238.0, 'y': 221.0}, {'x': 237.0, 'y': 220.0}, {'x': 227.0, 'y': 220.0}, {'x': 226.0, 'y': 219.0}, {'x': 223.0, 'y': 219.0}, {'x': 222.0, 'y': 218.0}, {'x': 216.0, 'y': 218.0}, {'x': 215.0, 'y': 217.0}, {'x': 213.0, 'y': 217.0}, {'x': 208.0, 'y': 213.0}, {'x': 207.0, 'y': 209.0}, {'x': 206.0, 'y': 208.0}, {'x': 207.0, 'y': 207.0}, {'x': 207.0, 'y': 205.0}, {'x': 213.0, 'y': 198.0}, {'x': 215.0, 'y': 194.0}, {'x': 215.0, 'y': 192.0}, {'x': 217.0, 'y': 190.0}, {'x': 217.0, 'y': 161.0}, {'x': 215.0, 'y': 157.0}, {'x': 215.0, 'y': 153.0}, {'x': 213.0, 'y': 151.0}, {'x': 202.0, 'y': 151.0}, {'x': 199.0, 'y': 153.0}]}, 'slot_names': ['0'], 'text': {'text': '80.0'}}]}\n"
     ]
    }
   ],
   "source": [
    "import json\n",
    "import glob\n",
    "import os\n",
    "import numpy as np\n",
    "\n",
    "\n",
    "\n",
    "def readFiles(directory):\n",
    "    df = []\n",
    "    for filename in os.listdir(directory):\n",
    "        file = os.path.join(directory, filename)\n",
    "        data = json.load(open(file))\n",
    "        #numpy_2d_arrays = np.array(data)\n",
    "        #df.append(numpy_2d_arrays)\n",
    "        df.append(data)\n",
    "    return df\n",
    "\n",
    "\n",
    "\n",
    "df = readFiles('./jsons/')\n",
    "print(df[0])"
   ]
  },
  {
   "cell_type": "code",
   "execution_count": 94,
   "id": "17579a7e",
   "metadata": {},
   "outputs": [
    {
     "ename": "IndexError",
     "evalue": "list index out of range",
     "output_type": "error",
     "traceback": [
      "\u001b[0;31m---------------------------------------------------------------------------\u001b[0m",
      "\u001b[0;31mIndexError\u001b[0m                                Traceback (most recent call last)",
      "Input \u001b[0;32mIn [94]\u001b[0m, in \u001b[0;36m<cell line: 1>\u001b[0;34m()\u001b[0m\n\u001b[0;32m----> 1\u001b[0m \u001b[38;5;28mprint\u001b[39m(\u001b[43mdf\u001b[49m\u001b[43m[\u001b[49m\u001b[38;5;241;43m0\u001b[39;49m\u001b[43m]\u001b[49m\u001b[38;5;241;43m.\u001b[39;49m\u001b[43mget\u001b[49m\u001b[43m(\u001b[49m\u001b[38;5;124;43m\"\u001b[39;49m\u001b[38;5;124;43mannotations\u001b[39;49m\u001b[38;5;124;43m\"\u001b[39;49m\u001b[43m)\u001b[49m\u001b[43m[\u001b[49m\u001b[38;5;241;43m7777\u001b[39;49m\u001b[43m]\u001b[49m)\n",
      "\u001b[0;31mIndexError\u001b[0m: list index out of range"
     ]
    }
   ],
   "source": [
    "print(df[0].get(\"annotations\")[7777])"
   ]
  },
  {
   "cell_type": "code",
   "execution_count": 44,
   "id": "3a1221b6",
   "metadata": {},
   "outputs": [
    {
     "name": "stdout",
     "output_type": "stream",
     "text": [
      "{'text': '80.0'}\n"
     ]
    }
   ],
   "source": [
    "print(df[0].get(\"annotations\")[0].get(\"text\"))"
   ]
  },
  {
   "cell_type": "code",
   "execution_count": 45,
   "id": "12e79ff8",
   "metadata": {},
   "outputs": [
    {
     "name": "stdout",
     "output_type": "stream",
     "text": [
      "80.0\n"
     ]
    }
   ],
   "source": [
    "print(df[0].get(\"annotations\")[0].get(\"text\").get(\"text\"))"
   ]
  },
  {
   "cell_type": "code",
   "execution_count": 46,
   "id": "f0909778",
   "metadata": {},
   "outputs": [
    {
     "name": "stdout",
     "output_type": "stream",
     "text": [
      "{'h': 247.0, 'w': 269.0, 'x': 168.0, 'y': 151.0}\n"
     ]
    }
   ],
   "source": [
    "print(df[0].get(\"annotations\")[0].get(\"bounding_box\"))"
   ]
  },
  {
   "cell_type": "code",
   "execution_count": 92,
   "id": "8398827e",
   "metadata": {},
   "outputs": [
    {
     "ename": "IndexError",
     "evalue": "list index out of range",
     "output_type": "error",
     "traceback": [
      "\u001b[0;31m---------------------------------------------------------------------------\u001b[0m",
      "\u001b[0;31mIndexError\u001b[0m                                Traceback (most recent call last)",
      "Input \u001b[0;32mIn [92]\u001b[0m, in \u001b[0;36m<cell line: 1>\u001b[0;34m()\u001b[0m\n\u001b[0;32m----> 1\u001b[0m \u001b[38;5;28mprint\u001b[39m(\u001b[43mdf\u001b[49m\u001b[43m[\u001b[49m\u001b[38;5;241;43m0\u001b[39;49m\u001b[43m]\u001b[49m\u001b[38;5;241;43m.\u001b[39;49m\u001b[43mget\u001b[49m\u001b[43m(\u001b[49m\u001b[38;5;124;43m\"\u001b[39;49m\u001b[38;5;124;43mannotations\u001b[39;49m\u001b[38;5;124;43m\"\u001b[39;49m\u001b[43m)\u001b[49m\u001b[43m[\u001b[49m\u001b[38;5;241;43m7777\u001b[39;49m\u001b[43m]\u001b[49m)\n",
      "\u001b[0;31mIndexError\u001b[0m: list index out of range"
     ]
    }
   ],
   "source": [
    "print(df[0].get(\"annotations\")[7777])\n"
   ]
  },
  {
   "cell_type": "code",
   "execution_count": 93,
   "id": "781f9747",
   "metadata": {
    "scrolled": true
   },
   "outputs": [
    {
     "ename": "SyntaxError",
     "evalue": "unexpected EOF while parsing (1000026637.py, line 1)",
     "output_type": "error",
     "traceback": [
      "\u001b[0;36m  Input \u001b[0;32mIn [93]\u001b[0;36m\u001b[0m\n\u001b[0;31m    print(df[0].get(\"annotations\")[7777].get(\"polygon\").get(\"path\")\u001b[0m\n\u001b[0m                                                                   ^\u001b[0m\n\u001b[0;31mSyntaxError\u001b[0m\u001b[0;31m:\u001b[0m unexpected EOF while parsing\n"
     ]
    }
   ],
   "source": [
    "print(df[0].get(\"annotations\")[7777].get(\"polygon\").get(\"path\")"
   ]
  },
  {
   "cell_type": "code",
   "execution_count": 99,
   "id": "5a216f99",
   "metadata": {},
   "outputs": [],
   "source": [
    "data_arr = []\n",
    "for index in range(len(df)):\n",
    "    try:\n",
    "        filename = df[index].get(\"image\")[0].get(\"filename\")\n",
    "        width = df[index].get(\"image\")[0].get(\"width\")\n",
    "        height = df[index].get(\"image\")[0].get(\"height\")\n",
    "        bbox = df[index].get(\"annotations\")[0].get(\"bounding_box\")\n",
    "        polygon = df[index].get(\"annotations\")[0].get(\"polygon\").get(\"path\")\n",
    "        class_name = weight = df[index].get(\"annotations\")[0].get(\"name\")\n",
    "        weight = df[index].get(\"annotations\")[0].get(\"text\").get(\"text\")\n",
    "        data_arr.append([filename, width, height, class_name, weight, bbox, polygon])\n",
    "    except:\n",
    "        print(\"Error with file: \" + filename)\n",
    "\n",
    "\n"
   ]
  },
  {
   "cell_type": "code",
   "execution_count": 101,
   "id": "7a870394",
   "metadata": {},
   "outputs": [
    {
     "name": "stdout",
     "output_type": "stream",
     "text": [
      "45.5\n"
     ]
    }
   ],
   "source": [
    "print(data_arr[4][4])"
   ]
  },
  {
   "cell_type": "code",
   "execution_count": 76,
   "id": "7d3ce7be",
   "metadata": {},
   "outputs": [
    {
     "ename": "IndexError",
     "evalue": "list index out of range",
     "output_type": "error",
     "traceback": [
      "\u001b[0;31m---------------------------------------------------------------------------\u001b[0m",
      "\u001b[0;31mIndexError\u001b[0m                                Traceback (most recent call last)",
      "Input \u001b[0;32mIn [76]\u001b[0m, in \u001b[0;36m<cell line: 1>\u001b[0;34m()\u001b[0m\n\u001b[0;32m----> 1\u001b[0m weight \u001b[38;5;241m=\u001b[39m \u001b[43mdf\u001b[49m\u001b[43m[\u001b[49m\u001b[38;5;241;43m7026\u001b[39;49m\u001b[43m]\u001b[49m\u001b[38;5;241m.\u001b[39mget(\u001b[38;5;124m\"\u001b[39m\u001b[38;5;124mannotations\u001b[39m\u001b[38;5;124m\"\u001b[39m)[\u001b[38;5;241m0\u001b[39m]\u001b[38;5;241m.\u001b[39mget(\u001b[38;5;124m\"\u001b[39m\u001b[38;5;124mtext\u001b[39m\u001b[38;5;124m\"\u001b[39m)\u001b[38;5;241m.\u001b[39mget(\u001b[38;5;124m\"\u001b[39m\u001b[38;5;124mtext\u001b[39m\u001b[38;5;124m\"\u001b[39m)\n\u001b[1;32m      2\u001b[0m \u001b[38;5;28mprint\u001b[39m(weight)\n",
      "\u001b[0;31mIndexError\u001b[0m: list index out of range"
     ]
    }
   ],
   "source": [
    "weight = df[7026].get(\"annotations\")[0].get(\"text\").get(\"text\")\n",
    "print(weight)"
   ]
  },
  {
   "cell_type": "code",
   "execution_count": null,
   "id": "84b1b964",
   "metadata": {},
   "outputs": [],
   "source": []
  }
 ],
 "metadata": {
  "kernelspec": {
   "display_name": "Python 3 (ipykernel)",
   "language": "python",
   "name": "python3"
  },
  "language_info": {
   "codemirror_mode": {
    "name": "ipython",
    "version": 3
   },
   "file_extension": ".py",
   "mimetype": "text/x-python",
   "name": "python",
   "nbconvert_exporter": "python",
   "pygments_lexer": "ipython3",
   "version": "3.8.10"
  }
 },
 "nbformat": 4,
 "nbformat_minor": 5
}
